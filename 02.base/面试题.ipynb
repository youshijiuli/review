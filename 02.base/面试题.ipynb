{
 "cells": [
  {
   "cell_type": "markdown",
   "metadata": {},
   "source": [
    "第一章 Python基础\n",
    "1.为什么学习Python？\n",
    "答：家里有在这个IT圈子里面，也想让我接触这个圈子，然后给我建议学的Python，然后自己通过百度和向有学过Python的同学了解了Python，Python这门语言，入门比较简单，它简单易学，生态圈比较强大，涉及的地方比较多，特别是在人智能，和数据分析这方面。在未来我觉得是往自动化，人工智能这方面发展的，所以学习了Python\n",
    "2.通过什么途径学习的Python？\n",
    "答：刚开始接触Python的时候，到网上里面跟着视频学基础，再后来网上到看技术贴，然后看到有人推荐廖雪峰的Python教程，\n",
    "练项目到GitHub上面找一些小项目学习\n",
    "3.公司线上和开发环境使用的什么系统？\n",
    "答：开发环境：mac/win/ubuntu； 线上：centos\n",
    "4.Python和Java、PHP、C、C#、C++等其他语言的对比？\n",
    "答：（1）与java相比：在很多方面，Python比Java要简单，比如java中所有变量必须声明才能使用，而Python不需要声明,用少量的代码构建出很多功能;（高效的高级数据结构）\n",
    "（2）与php相比：Python支持多元化,PhP比较单一,python标准包直接提供了工具，并且相对于PHP代码更易于维护;\n",
    "（3）Python与c相比：\n",
    "Python 和 C Python这门语言是由C开发而来\n",
    "　　\t对于使用：Python的类库齐全并且使用简洁，如果要实现同样的功  能，Python 10行代码可以解决，C可能就需要100行甚至更多.\n",
    "　　     对于速度：Python的运行速度相较与C，绝逼是慢了\n",
    "（4）Python于C#相比\n",
    "（5）Python于C+\n",
    "5.简述解释型和编译型编程语言？\n",
    "答：解释型：就是边解释边执行（Python，php）\n",
    "\t编译型：编译后再执行（c、java、c#）\n",
    "6.Python解释器种类以及特点？\n",
    "答：CPython\n",
    "是官方版本的解释器：CPython。是使用C语言开发的，所以叫CPython。在命令行下运行python就是启动CPython解释器。\n",
    "CPython是使用最广的Python解释器。教程的所有代码也都在CPython下执行。\n",
    "IPython\n",
    "IPython是基于CPython之上的一个交互式解释器，也就是说，IPython只是在交互方式上有所增强，但是执行Python代码的功能和CPython是完全一样的。CPython用>>>作为提示符，而IPython用In [序号]:作为提示符。\n",
    "PyPy\n",
    "由Python写的解释器，它的执行速度是最快。PyPy采用JIT技术，对Python代码进行动态编译（注意不是解释），运行速度比cpython快\n",
    "Jython\n",
    "Jython是运行在Java平台上的Python解释器，可以直接把Python代码编译成Java字节码执行。\n",
    "IronPython\n",
    "IronPython和Jython类似，只不过IronPython是运行在.Net平台上的Python解释器，可以直接把Python代码编译成.Net的字节码。\n",
    "小结：\n",
    "　　Python的解释器很多，但使用最广泛的还是CPython。如果要和Java或.Net平台交互，最好的办法不是用Jython或IronPython，而是通过网络调用来交互，确保各程序\n",
    "7.位和字节的关系？\n",
    "答：8位等于1字节\n",
    "8.b、B、KB、MB、GB 的关系？\n",
    "答：8bit = 1 B\n",
    "1024B = 1KB\n",
    "1024KB = 1MB\n",
    "1024MB = 1GB\n",
    "9.请至少列举5个 PEP8 规范（越多越好）\n",
    "答：1、使用4个空格而不是tab键进行缩进。\n",
    "2、每行长度不能超过79\n",
    "3、使用空行来间隔函数和类，以及函数内部的大块代码\n",
    "\t4、必要时候，在每一行下写注释\n",
    "\t5、使用文档注释，写出函数注释\n",
    "\t6、在操作符和逗号之后使用空格，但是不要在括号内部使用\n",
    "\t7、命名类和函数的时候使用一致的方式，比如使用CamelCase来命名类，\n",
    "       使用lower_case_with_underscores来命名函数和方法\n",
    "8、在类中总是使用self来作为默认\n",
    "    9、尽量不要使用魔法方法\n",
    "10、默认使用UTF-8，甚至ASCII作为编码方式\n",
    "11、换行可以使用反斜杠，最好使用圆括号。\n",
    "12、不要在一句import中多个库，\n",
    "空格的使用：\n",
    "各种右括号前不要加空格。\n",
    "逗号、冒号、分号前不要加空格。\n",
    "函数的左括号前不要加空格。如Func(1)\n",
    "序列的左括号前不要加空格。如list[2]\n",
    "操作符左右各加一个空格，不要为了对齐增加空格\n",
    "函数默认参数使用的赋值符左右省略空格\n",
    "不要将多句语句写在同一行，尽管使用‘；’允许\n",
    "if/for/while语句中，即使执行语句只有一句，也必须另起一行\n",
    "   函数命名使用全部小写的方式，常量命名使用大写，类属性（方法和变量）使用小写\n",
    "类名使用大驼\n",
    "10.求结果：or and\n",
    "\n",
    "答：1. 求结果：1 or 3\n",
    "\tprint(1 or 3)  \t\t\t# 1\n",
    "\t2. 求结果：1 and 3\n",
    "\tprint(1 and 3)  \t\t# 3\n",
    "\t3. 求结果：0 and 2 and 1\n",
    "\tprint(0 and 2 and 1) \t\t# 0\n",
    "\t4. 求结果：0 and 2 or 1\n",
    "\tprint(0 and 2 or 1)  \t\t# 1\n",
    "\t5. 求结果：0 and 2 or 1 or 4\n",
    "\tprint(0 and 2 or 1 or 4)  \t# 1\n",
    "\t6. 求结果：0 or Flase and 1\n",
    "\tprint(0 or False and 1)  \t# Flase\n",
    "总结：\n",
    "　　# x or y 如果 x为真，则值为x，否则为y\n",
    "　　# x and y 如果 x 为真，则值为 y，\n",
    "11.ascii、unicode、utf-8、gbk 区别？\n",
    "答：python2内容进行编码（默认ascii）,而python3对内容进行编码的默认为utf-8。\n",
    "ascii   最多只能用8位来表示（一个字节），即：2**8 = 256，所以，ASCII码最多只能表示 256 个符号。不支持中文\n",
    "unicode  万国码\n",
    "    UCS -2 是使用2个字节   \n",
    "    UCS -4 是使用4个字节    \n",
    "utf-8  万国码的升级版  一个中文字符==三个字节   英文是一个字节  欧洲的是 2个字节 亚洲 3个字节\n",
    "gbk    国内版本  一个中文字符==2个字节   英文是一个字节\n",
    "gbk 转 utf-8  需通过媒介 Unicode\n",
    "\n",
    "12.字节码和机器码的区别？\n",
    "答：机器码，学名机器语言指令，有时也被称为原生码，是电脑的CPU可直接解读的数据。\n",
    "字节码是一种中间状态（中间码）的二进制代码（文件）。需要直译器转译后才能成为机器\n",
    "\n",
    "13.三元运算编写格式。\n",
    "答：x if x>y else y\n",
    "14.列举你了解的所有Python2和Python3的区别？\n",
    "答：\n",
    "1：打印时，py2需要可以不需要加括号，py3 需要\n",
    "python 2 ：print ('lili')   ,   print 'lili'\n",
    "python 3 : print ('lili')   \n",
    "python3 必须加括号\n",
    "\n",
    "2：内涵\n",
    "Python2：1，臃肿，源码的重复量很多。\n",
    "          　  2，语法不清晰，掺杂着C，php，Java，的一些陋习。\n",
    "Python3：几乎是重构后的源码，规范，清晰，优美。\n",
    "\n",
    "3、输出中文的区别\n",
    "python2：要输出中文 需加 # -*- encoding:utf-8 -*-\n",
    "Python3 ： 直接搞\n",
    "\n",
    "4：input不同\n",
    "python2 ：raw_input\n",
    "python3 ：input 统一使用input函数\n",
    "\n",
    "5：指定字节\n",
    "python2在编译安装时，可以通过参数-----enable-unicode=ucs2 或-----enable-unicode=ucs4分别用于指定使用2个字节、4个字节表示一个unicode；\n",
    "python3无法进行选择，默认使用 ucs4\n",
    "查看当前python中表示unicode字符串时占用的空间：\n",
    "impor sys\n",
    "print（sys.maxunicode）\n",
    "#如果值是65535，则表示使用usc2标准，即：2个字节表示\n",
    "#如果值是1114111，则表示使用usc4标准，即：4个字节表示\n",
    "6：\n",
    "py2：xrange\n",
    "　　　　range\n",
    "py3：range  统一使用range，Python3中range的机制也进行修改并提高了大数据集生成效率\n",
    "\n",
    "7：在包的知识点里\n",
    "包：一群模块文件的集合 + __init__\n",
    "区别：py2 ： 必须有__init__\n",
    "　　　py3：不是必须的了\n",
    "\n",
    "8：不相等操作符\"<>\"被Python3废弃，统一使用\"!=\"\n",
    "\n",
    "9：long整数类型被Python3废弃，统一使用int\n",
    "\n",
    "10：迭代器iterator的next()函数被Python3废弃，统一使用next(iterator)\n",
    "\n",
    "11：异常StandardError 被Python3废弃，统一使用Exception\n",
    "\n",
    "12：字典变量的has_key函数被Python废弃，统一使用in关键词\n",
    "\n",
    "13:python3和python2编码不同\n",
    "\n",
    "14:python3字符串是str 字节是bytes;python2\n",
    "\n",
    "15.Py2项目如何迁移成py3?\n",
    "答：使用python3 中自带的2to3脚本在终端中输入一下命令\n",
    " \n",
    "C:\\Users\\by\\AppData\\Local\\Programs\\Python\\Python36\\Tools\\scripts\\2to3.py -w D:\\untitled2\\aaa.py\n",
    "\n",
    "这样第一个内容是python解释器 然后要执行的脚本文件路劲,执行这个脚本文件要进行修改的文件内\n",
    "16.用一行代码实现数值交换：\n",
    "\n",
    "答：a = 1 b = 2\n",
    "a,b = b,a\n",
    "这样就是在内存中改变里他们的引用指向\n",
    "\n",
    "17.Python3和Python2中 int 和 long的区别？\n",
    "答：python2中int是存放一定长度的整型,long是存放int不能够存放的整型\n",
    "python3中是没有long,python3中int要比python2中的int能多存储整\n",
    "\n",
    "18.xrange和range的区别？\n",
    "答：python2中xrange和python3中的range是一样的,都是一个可迭代对象\n",
    "python2中的range获取到就是一个列表,python2xrange和python3range获取的都是它自己本\n",
    "\n",
    "19.如何实现字符串的反转？如： name = \"wupeiqi\" 请反转为 name = \"iqiepuw\" 。\n",
    "答：name = 'wupeiqi'\n",
    "print(name[::-1])\n",
    "20.文件操作时：xreadlines和readlines的区别？\n",
    "答：xreadlines readlines的区别是一个是readlines是将内容存放到一个列表中,xreadlines是将内容存放到一个迭代器中\n",
    "from collections import Iterator,Iterable\n",
    "\n",
    "\n",
    "21.列举布尔值为False的常见值？\n",
    "答：0,None,'',[],(),{}\n",
    "22.列举字符串、列表、元组、字典每个常用的5个方法？\n",
    "答：\n",
    "\n",
    "字符串\t列表\t元组\t字典\n",
    "strip\n",
    "    split\n",
    "    replace\n",
    "    find\n",
    "    upper\n",
    "    lower\n",
    "\t    append\n",
    "    insert\n",
    "    remove\n",
    "    pop\n",
    "    count\n",
    "\tcount\n",
    "    index\n",
    "    无\n",
    "\t    get\n",
    "    setdefault\n",
    "    update\n",
    "    pop\n",
    "    popitem\n",
    "    keys\n",
    "    values\n",
    "    item\n",
    "\n",
    "\n",
    "23.is和==的区别?\n",
    "答：is 是查看两端的数据的内容地址是不是一致 == 是查看两端的内容是否一致"
   ]
  },
  {
   "attachments": {},
   "cell_type": "markdown",
   "metadata": {},
   "source": [
    "24. 1、2、3、4、5 能组成多少个互不相同且无重复的三位数"
   ]
  },
  {
   "cell_type": "code",
   "execution_count": 2,
   "metadata": {},
   "outputs": [
    {
     "data": {
      "text/plain": [
       "60"
      ]
     },
     "execution_count": 2,
     "metadata": {},
     "output_type": "execute_result"
    }
   ],
   "source": [
    "l1_list = []\n",
    "for i in range(1,6):\n",
    "    for j in range(1,6):\n",
    "        for k in range(1,6):\n",
    "            if i != j and i != k and j != k:\n",
    "                # print(i,j,k)\n",
    "                l1_list.append(f'{i}{j}{k}')\n",
    "len(l1_list)"
   ]
  },
  {
   "attachments": {},
   "cell_type": "markdown",
   "metadata": {},
   "source": [
    "25. 什么是反射？以及应用场景？\n",
    "    \n",
    "答：反射就是将字符串的内容当做对象使用;\n",
    "应用场景:前后端交互的时候前端返回的类名(函数名)是字符串的时候我们想要使用就要用到反射\n",
    "\n",
    "26. 简述Python的深浅拷贝？\n",
    "\n",
    "答：浅拷贝,只拷贝第一层数据\n",
    "深拷贝中可变数据类型共用的是一个,不可变的数据类型会重新开辟一个新的空间"
   ]
  },
  {
   "attachments": {},
   "cell_type": "markdown",
   "metadata": {},
   "source": [
    "27. Python垃圾回收机制？\n",
    "\n",
    "\n",
    "答：1.引用计数\n",
    "\t2.标记清除\n",
    "\t3.分代回收\n",
    "https://www.cnblogs.com/pinganzi/p/6646742.html 参考链接\n",
    "\n",
    "28. Python的可变类型和不可变类型的区别？\n",
    "\n",
    "\n",
    "答：可变和不可变的区别我们可以通过哈希来判断,还可以通过内存地址来区分,如果内存值进行了修改就说明是不可变的数据"
   ]
  },
  {
   "attachments": {},
   "cell_type": "markdown",
   "metadata": {},
   "source": [
    "29. 看代码写结果"
   ]
  },
  {
   "cell_type": "code",
   "execution_count": 3,
   "metadata": {},
   "outputs": [
    {
     "name": "stdout",
     "output_type": "stream",
     "text": [
      "{'k1': [666], 'k2': [666]}\n",
      "{'k1': [666, 777], 'k2': [666, 777]}\n"
     ]
    }
   ],
   "source": [
    "v = dict.fromkeys(['k1','k2'],[])\n",
    "v['k1'].append(666)\n",
    "print(v)\n",
    "v['k1'].append(777)\n",
    "print(v)"
   ]
  },
  {
   "attachments": {},
   "cell_type": "markdown",
   "metadata": {},
   "source": [
    "fromkeys是将后边的[](空列表)当做了k1和k2的值,其实k1和k2的是同一个列表;\n",
    "\n",
    "我们将k1对应的空列表添加了一个666 k2也就有了;\n",
    "\n",
    "再然后我们通过k1修改了对应的值是777 就是将值的指向指向了777 不在使用之前的那个列表"
   ]
  },
  {
   "attachments": {},
   "cell_type": "markdown",
   "metadata": {},
   "source": [
    "30. 一行代码实现删除列表中重复的值 ?\n",
    "    \n",
    "答：list(set(list))\n",
    "\n",
    "31. “1,2,3” 变成 [‘1’,’2’,’3’] "
   ]
  },
  {
   "cell_type": "code",
   "execution_count": 4,
   "metadata": {},
   "outputs": [
    {
     "data": {
      "text/plain": [
       "['1', '2', '3']"
      ]
     },
     "execution_count": 4,
     "metadata": {},
     "output_type": "execute_result"
    }
   ],
   "source": [
    "s = '1,2,3'\n",
    "s_list = s.split(',')\n",
    "s_list"
   ]
  },
  {
   "attachments": {},
   "cell_type": "markdown",
   "metadata": {},
   "source": [
    "32. 如何实现[‘1’,’2’,’3’]变成[1,2,3] "
   ]
  },
  {
   "cell_type": "code",
   "execution_count": 6,
   "metadata": {},
   "outputs": [
    {
     "data": {
      "text/plain": [
       "[1, 2, 3]"
      ]
     },
     "execution_count": 6,
     "metadata": {},
     "output_type": "execute_result"
    }
   ],
   "source": [
    "res = map(int,['1','2','3'])  # 使用映射函数，当然也可以使用我们的列表推导式\n",
    "list(res)"
   ]
  },
  {
   "attachments": {},
   "cell_type": "markdown",
   "metadata": {},
   "source": [
    "33. 比较： a = [1,2,3] 和 b = [(1),(2),(3) ] 以及 c = [(1,),(2,),(3,) ] 的区别？"
   ]
  },
  {
   "cell_type": "code",
   "execution_count": 9,
   "metadata": {},
   "outputs": [
    {
     "name": "stdout",
     "output_type": "stream",
     "text": [
      "[1, 2, 3] <class 'list'> 3\n",
      "[1, 2, 3] <class 'list'> 3\n",
      "[(1,), (2,), (3,)] <class 'list'> 3\n",
      "True\n",
      "False\n",
      "False\n"
     ]
    }
   ],
   "source": [
    "a = [1,2,3]\n",
    "b = [(1),(2),(3) ]\n",
    "c = [(1,),(2,),(3,) ]\n",
    "print(a,type(a),len(a))\n",
    "print(b,type(b),len(b))\n",
    "print(c,type(c),len(c))\n",
    "print(a == b)\n",
    "print(a == c)\n",
    "print(b == c)"
   ]
  },
  {
   "attachments": {},
   "cell_type": "markdown",
   "metadata": {},
   "source": [
    "34. 如何用一行代码生成[1,4,9,16,25,36,49,64,81,100] ?"
   ]
  },
  {
   "cell_type": "code",
   "execution_count": null,
   "metadata": {},
   "outputs": [],
   "source": []
  },
  {
   "attachments": {},
   "cell_type": "markdown",
   "metadata": {},
   "source": [
    "35. 常用字符串格式化哪几种？"
   ]
  },
  {
   "attachments": {},
   "cell_type": "markdown",
   "metadata": {},
   "source": [
    "36. 什么是断言（assert）？应用场景？\n",
    "    \n",
    "答：断言是判断这个这个语句是否是我们预想的这样,如果不是的就会报错.\n",
    "前端将数据发送给后端,后端进行验证的时候就可以使用断言\n",
    "\n",
    "\n",
    "37. 有两个字符串列表a和b，每个字符串是由逗号分隔的一些字符："
   ]
  },
  {
   "cell_type": "markdown",
   "metadata": {},
   "source": []
  },
  {
   "attachments": {},
   "cell_type": "markdown",
   "metadata": {},
   "source": [
    "38. 有一个多层嵌套的列表A=[1,2,[3,4,[\"434\",...]]], 请写一段代码遍历A中的每一个元素并打印出来"
   ]
  },
  {
   "cell_type": "code",
   "execution_count": 15,
   "metadata": {},
   "outputs": [
    {
     "name": "stdout",
     "output_type": "stream",
     "text": [
      "1\n",
      "2\n",
      "3\n",
      "4\n",
      "434\n",
      "6\n",
      "7\n",
      "8\n",
      "9\n",
      "10\n",
      "[1, 2, 3, 4, '434', 6, 7, 8, 9, 10]\n"
     ]
    }
   ],
   "source": [
    "alist = [1, [2, [3, [4, [\"434\", [6,7],8],9],10]]]\n",
    "flatten_list = []\n",
    "def get(lst):\n",
    "    for item in lst:\n",
    "        if type(item) == list:\n",
    "            get(item)\n",
    "        else:\n",
    "            print(item)\n",
    "            new_item = item\n",
    "            flatten_list.append(new_item)\n",
    "    return flatten_list\n",
    "res = get(alist)\n",
    "print(res)\n",
    "# get(alist)"
   ]
  },
  {
   "attachments": {},
   "cell_type": "markdown",
   "metadata": {},
   "source": [
    "39. a = range(10),a[::-3] 的结果是 ____\n",
    "\n",
    "答：[9,6,3,0]\n",
    "\n",
    "40. 下面那个命令可以从虚拟环境中退出"
   ]
  },
  {
   "attachments": {},
   "cell_type": "markdown",
   "metadata": {},
   "source": [
    "A.  deactivate\n",
    "B.  exit\n",
    "C.  quit\n",
    "D.  以上均可\n",
    "\n",
    "答： A\n",
    "\n",
    "41. 将列表内的元素,根据位数合并成字典"
   ]
  },
  {
   "attachments": {},
   "cell_type": "markdown",
   "metadata": {},
   "source": [
    "lst = [1,2,4,8,16,32,64,128,256,512,1024,32769,65536,4294967296]\n",
    "{\n",
    "    1:[1,2,4,8],\n",
    "    2:[...]\n",
    "}"
   ]
  },
  {
   "attachments": {},
   "cell_type": "markdown",
   "metadata": {},
   "source": [
    "42. 请尽量用简洁的方法将二维数组转换成一维数组"
   ]
  },
  {
   "cell_type": "code",
   "execution_count": 18,
   "metadata": {},
   "outputs": [
    {
     "ename": "NameError",
     "evalue": "name 'item' is not defined",
     "output_type": "error",
     "traceback": [
      "\u001b[1;31m---------------------------------------------------------------------------\u001b[0m",
      "\u001b[1;31mNameError\u001b[0m                                 Traceback (most recent call last)",
      "Cell \u001b[1;32mIn[18], line 3\u001b[0m\n\u001b[0;32m      1\u001b[0m \u001b[39m# 列表推导式\u001b[39;00m\n\u001b[0;32m      2\u001b[0m two_dim_list \u001b[39m=\u001b[39m [[\u001b[39m1\u001b[39m,\u001b[39m2\u001b[39m,\u001b[39m3\u001b[39m],[\u001b[39m4\u001b[39m,\u001b[39m5\u001b[39m,\u001b[39m6\u001b[39m],[\u001b[39m7\u001b[39m,\u001b[39m8\u001b[39m,\u001b[39m9\u001b[39m]]\n\u001b[1;32m----> 3\u001b[0m [em \u001b[39mfor\u001b[39;00m em \u001b[39min\u001b[39;00m item \u001b[39mfor\u001b[39;00m item \u001b[39min\u001b[39;00m two_dim_list]\n",
      "\u001b[1;31mNameError\u001b[0m: name 'item' is not defined"
     ]
    }
   ],
   "source": [
    "# 列表推导式\n",
    "two_dim_list = [[1,2,3],[4,5,6],[7,8,9]]\n",
    "[em for em in item for item in two_dim_list]  # 双层列表推导式  有疑问"
   ]
  },
  {
   "cell_type": "code",
   "execution_count": 19,
   "metadata": {},
   "outputs": [
    {
     "data": {
      "text/plain": [
       "[1, 2, 3, 4, 5, 6, 7, 8, 9]"
      ]
     },
     "execution_count": 19,
     "metadata": {},
     "output_type": "execute_result"
    }
   ],
   "source": [
    "a = two_dim_list[0]\n",
    "b = two_dim_list[1]\n",
    "c = two_dim_list[2]\n",
    "a + b + c"
   ]
  },
  {
   "attachments": {},
   "cell_type": "markdown",
   "metadata": {},
   "source": [
    "43. 将列表按下列规则排序, 补全代码  (有疑问  对于sorted的用法)\n",
    "\n",
    "- 正数在前负数在后\n",
    "- 正数从小到大\n",
    "- 负数从大到小\n",
    "\n",
    "例: \n",
    "排序前[7,-8,5,4,0,-2,-5]\n",
    "\n",
    "排序后[0,4,5,7,-2,-5,-8]\n",
    "\n",
    "补全代码:"
   ]
  },
  {
   "cell_type": "code",
   "execution_count": 20,
   "metadata": {},
   "outputs": [
    {
     "data": {
      "text/plain": [
       "[0, 4, 5, 7, -2, -5, -8]"
      ]
     },
     "execution_count": 20,
     "metadata": {},
     "output_type": "execute_result"
    }
   ],
   "source": [
    "lst = [7,-8,5,4,0,-2,-5]\n",
    "sorted(lst,key=lambda x:[x < 0,abs(x)])"
   ]
  },
  {
   "attachments": {},
   "cell_type": "markdown",
   "metadata": {},
   "source": [
    "44. 哈希冲突回避算法有哪几种, 分别有什么特点？\n",
    "\n",
    "答：1.开放定址法\n",
    "\t2.链地址法\n",
    "\t3.再哈希法\n",
    "\t4.建立一个公共溢出区\n",
    "\n",
    "45. 简述Python的字符串驻留机制？\n",
    "\n",
    "答：驻留机制是为了节省内存,提高效率.字符串满足驻留机制的条件如下:\n",
    "1.字符串进行乘法计算的时候,总长度不能超过20,且乘法运算的时候0和1除外\n",
    "2.同样的内容不进行乘法的时候长度无限,也遵守驻留\n",
    "\n",
    "46. 以下代码输出是什么? list=['a','b','c','d','e'] print list[10:]"
   ]
  },
  {
   "cell_type": "code",
   "execution_count": 21,
   "metadata": {},
   "outputs": [
    {
     "name": "stdout",
     "output_type": "stream",
     "text": [
      "[]\n"
     ]
    }
   ],
   "source": [
    "list=['a','b','c','d','e'] \n",
    "print(list[10:])"
   ]
  },
  {
   "attachments": {},
   "cell_type": "markdown",
   "metadata": {},
   "source": [
    "47. Python语言中那些数据类型能做为字典的key?\n",
    "\n",
    "A.  没有限制\n",
    "B.  字母数字下划线\n",
    "C.  字母\n",
    "D.  可被hash的类型\n",
    "\n",
    "答： D\n",
    "\n",
    "48. 以下两段代码的输出一样吗, 占用系统资源一样吗, 什么时候要用xrange代替range"
   ]
  },
  {
   "cell_type": "code",
   "execution_count": 22,
   "metadata": {},
   "outputs": [
    {
     "name": "stdout",
     "output_type": "stream",
     "text": [
      "0\n"
     ]
    }
   ],
   "source": [
    "for i in range(1):\n",
    "    print(i)"
   ]
  },
  {
   "cell_type": "code",
   "execution_count": null,
   "metadata": {},
   "outputs": [],
   "source": [
    "for i in xrange(1):  # 很明显已经弃用\n",
    "    print(i)"
   ]
  },
  {
   "attachments": {},
   "cell_type": "markdown",
   "metadata": {},
   "source": [
    "答：输出的结果是一样,占用的资源不一样range比较消耗资源.当数据量比较大的时候使用xrange来代替range比较好"
   ]
  },
  {
   "attachments": {},
   "cell_type": "markdown",
   "metadata": {},
   "source": [
    "49. 如下代码段"
   ]
  },
  {
   "cell_type": "code",
   "execution_count": 24,
   "metadata": {},
   "outputs": [
    {
     "name": "stdout",
     "output_type": "stream",
     "text": [
      "[1, 2, 3, [4, 5, 11], 6, 10]\n",
      "[1, 2, 3, [4, 5, 11], 6, 10]\n",
      "[1, 2, 3, [4, 5, 11], 6]\n",
      "[1, 2, 3, [4, 5, 12], 6]\n"
     ]
    }
   ],
   "source": [
    "import copy\n",
    "a = [1,2,3,[4,5],6]\n",
    "b = a\n",
    "c = copy.copy(a)\n",
    "d = copy.deepcopy(a)\n",
    "b.append(10)\n",
    "c[3].append(11)\n",
    "d[3].append(12)\n",
    "print(a)\n",
    "print(b)\n",
    "print(c)\n",
    "print(d)  # 12"
   ]
  },
  {
   "attachments": {},
   "cell_type": "markdown",
   "metadata": {},
   "source": [
    "50. 现有字典d={\"a\":26,\"g\":20,\"e\":20,\"c\":24,\"d\":23,\"f\":21,\"b\":25} 请按照字段中的value字段进行排序。"
   ]
  },
  {
   "cell_type": "code",
   "execution_count": 26,
   "metadata": {},
   "outputs": [
    {
     "name": "stdout",
     "output_type": "stream",
     "text": [
      "[('g', 20), ('e', 20), ('f', 21), ('d', 23), ('c', 24), ('b', 25), ('a', 26)]\n"
     ]
    }
   ],
   "source": [
    "d={\"a\":26,\"g\":20,\"e\":20,\"c\":24,\"d\":23,\"f\":21,\"b\":25}\n",
    "print(sorted(d.items(),key=lambda x:x[1]))"
   ]
  },
  {
   "attachments": {},
   "cell_type": "markdown",
   "metadata": {},
   "source": [
    "51. 给定两个listA,B,请用Python找出A,B中相同的元素,A,B中不同的元素"
   ]
  },
  {
   "cell_type": "code",
   "execution_count": 29,
   "metadata": {},
   "outputs": [
    {
     "name": "stdout",
     "output_type": "stream",
     "text": [
      "{8, 3, 4}\n",
      "{1, 2, 5, 6, 7, 12, 90, 57}\n"
     ]
    }
   ],
   "source": [
    "lst1 = [1,2,3,4,57,8,90]\n",
    "lst2 = [12,3,4,5,6,7,8]\n",
    "print(set(lst1) & set(lst2))\n",
    "print(set(lst1) ^ set(lst2))"
   ]
  },
  {
   "attachments": {},
   "cell_type": "markdown",
   "metadata": {},
   "source": [
    "52. 下列叙述中错误的是\n",
    "\n",
    "A.  栈是线性结构\n",
    "B.  队列是线性结构\n",
    "C.  线性列表是线性结构\n",
    "D.  二叉树是线性结构(T)"
   ]
  },
  {
   "attachments": {},
   "cell_type": "markdown",
   "metadata": {},
   "source": [
    "53. 一个栈的输入序列为1,2,3,4,5, 则下列序列中不可能是栈的输出序列的是\n",
    "\n",
    "A.  1 5 4 3 2\n",
    "B.  2 3 4 1 5\n",
    "C.  1 5 4 2 3\n",
    "D.  2 3 1 4 5\n",
    "\n",
    "答：C\n",
    "\n",
    "54. 下图那些PEP被认为涉及到了代码规范\n",
    "\n",
    "- PEP7\n",
    "- PEP8(T)\n",
    "- PEP20\n",
    "- PEP257\n",
    "\n",
    "\n",
    "55. 下面那些是Python合法的标识符？那些是Python的关键字？\n",
    "\n",
    "- int32\n",
    "- 40XL\n",
    "- saving$\n",
    "- ptint\n",
    "- this\n",
    "- self\n",
    "- 0x40L\n",
    "- true\n",
    "- big-daddy\n",
    "-  True\n",
    "-  if\n",
    "-  do\n",
    "-  Yield\n",
    "  \n",
    "答：int32,saving,ptint,this,self true 这是合法的标识符,True,if yield 这是Python的关键字"
   ]
  },
  {
   "attachments": {},
   "cell_type": "markdown",
   "metadata": {},
   "source": [
    "56. 从0-99这100个数中随机取出10个, 要求不能重复, 可以自己设计数据结构"
   ]
  },
  {
   "cell_type": "code",
   "execution_count": 30,
   "metadata": {},
   "outputs": [
    {
     "data": {
      "text/plain": [
       "[13, 76, 77, 50, 6, 70, 31, 98, 9, 21]"
      ]
     },
     "execution_count": 30,
     "metadata": {},
     "output_type": "execute_result"
    }
   ],
   "source": [
    "import random\n",
    "random.sample(range(100),k=10)"
   ]
  },
  {
   "attachments": {},
   "cell_type": "markdown",
   "metadata": {},
   "source": [
    "57. python 判断一个字典中是否有这些key: \"AAA\",'BB','C',\"DD\",'EEE'(不使用for while)\n",
    "\n",
    "> 提示：set  -->  求交集"
   ]
  },
  {
   "attachments": {},
   "cell_type": "markdown",
   "metadata": {},
   "source": [
    "58. 有一个list[\"This\",\"is\",\"a\",\"Boy\",\"!\"], 所有元素都是字符串, 对他进行大小写无关的排序"
   ]
  },
  {
   "cell_type": "code",
   "execution_count": 32,
   "metadata": {},
   "outputs": [
    {
     "data": {
      "text/plain": [
       "['!', 'a', 'boy', 'is', 'this']"
      ]
     },
     "execution_count": 32,
     "metadata": {},
     "output_type": "execute_result"
    }
   ],
   "source": [
    "list1 = [\"This\",\"is\",\"a\",\"Boy\",\"!\"]\n",
    "new_list = '_'.join(list1).lower().split('_')\n",
    "new_list.sort()\n",
    "new_list"
   ]
  },
  {
   "attachments": {},
   "cell_type": "markdown",
   "metadata": {},
   "source": [
    "59. 描述下dict的item()方法与iteritems()的不同\n",
    "\n",
    "答：iteritems 获取到的是一个迭代器,\n",
    "items获取的是一个列表\n",
    "\n",
    "60. 请列举你所知道的Python代码检测工具及他们间的区别？\n",
    "\n",
    "答：Flake8\n",
    "pep8\n",
    "pycodestyle\n",
    "Pyflakes\n",
    "\n",
    "61. 介绍一下try except的用法和作用?\n",
    "\n",
    "答：\n",
    "Try except:是一个异常捕获,用法就是在一些容易出现逻辑错误的地方加装,然后进行处理.不让异常抛出.\n",
    "    作用一般在程序上线使用的时候可以使用,如果程序出现错误问题的时候也不能让用户看见报错,我们就可以使用异常捕获\n",
    "    然后对程序进行闪退"
   ]
  },
  {
   "attachments": {},
   "cell_type": "markdown",
   "metadata": {},
   "source": [
    "62. 输入一个字符串, 返回倒序排列的结果 如: abcdef, 返回 fedcba"
   ]
  },
  {
   "cell_type": "code",
   "execution_count": 33,
   "metadata": {},
   "outputs": [
    {
     "data": {
      "text/plain": [
       "'jcbsd'"
      ]
     },
     "execution_count": 33,
     "metadata": {},
     "output_type": "execute_result"
    }
   ],
   "source": [
    "str = 'dsbcj'\n",
    "str[::-1]"
   ]
  },
  {
   "attachments": {},
   "cell_type": "markdown",
   "metadata": {},
   "source": [
    "63. 阅读以下代码, 并写出程序的输出结果(<span style=\"color:red\">注意</span>)"
   ]
  },
  {
   "cell_type": "code",
   "execution_count": 36,
   "metadata": {},
   "outputs": [
    {
     "data": {
      "text/plain": [
       "[4, 5, 7]"
      ]
     },
     "execution_count": 36,
     "metadata": {},
     "output_type": "execute_result"
    }
   ],
   "source": [
    "alist = [2,4,5,6,7]\n",
    "for var in alist:\n",
    "    if var % 2 == 0:\n",
    "        alist.remove(var)\n",
    "alist"
   ]
  },
  {
   "attachments": {},
   "cell_type": "markdown",
   "metadata": {},
   "source": [
    "64. 现有列表alist=[3,1,-4,-2],按其元素的绝对值大小进行排序?"
   ]
  },
  {
   "cell_type": "code",
   "execution_count": 35,
   "metadata": {},
   "outputs": [
    {
     "data": {
      "text/plain": [
       "[1, -2, 3, -4]"
      ]
     },
     "execution_count": 35,
     "metadata": {},
     "output_type": "execute_result"
    }
   ],
   "source": [
    "alist=[3,1,-4,-2]\n",
    "sorted(alist,key=lambda x:abs(x))"
   ]
  },
  {
   "attachments": {},
   "cell_type": "markdown",
   "metadata": {},
   "source": [
    "65. 填空题\n",
    "\n",
    "- 表达式 3<4<5 是哪一个表达式的缩写_3<4 and 4<5__.\n",
    "- 获取Python解释器版本的方法是:_ python -V___.\n",
    "- 如果模块是被导入的,__name__的值是__模块的名字__, 如果模块是被直接执行的__name__的值是__main__.\n",
    "- Python的内存管理中, 为了追踪内存中的对象, 使用了_引用计数___这一简单技术\n",
    "- Python的标准解释器是有C语言实现的, 称为_cpython___, 有Java实现的被称为_jython__.\n",
    "- Python中, _del__语句能直接显示的释放内存资源\n",
    "- Python的乘方运算符是__**__\n",
    "\n",
    "答：3<4 and 4<5\n",
    "\n",
    "python解释器 -V\n",
    "\n",
    "模块的名字,__main__\n",
    "\n",
    "引用计数\n",
    "\n",
    "cpython jython\n",
    "\n",
    "del\n",
    "\n",
    "**"
   ]
  },
  {
   "attachments": {},
   "cell_type": "markdown",
   "metadata": {},
   "source": [
    "66. 现有字典mydict和变量onekey, 请写出从mydict中取出onekey值的方法(不止一种写法, 多写加分, 并请叙述不同写法的区别, mydict中是否存在onekey的键值, 不确定)\n",
    "\n",
    "答：mydict['onekey']  这种获取方式如果键不存在就会报错\n",
    "\n",
    "mydict.get('onekey')   这种获取方式如果键不存在就返回None 我们可以自定义返回值\n",
    "\n",
    "mydict.setdefault('onekey') 这种方式也是查看键在字典中是否存在,不存在就返回None\n",
    "\n",
    "if 'onekey' in mydict: 这种方式是利用字典的键来进行校验是否存在\n",
    "\n",
    "67. 现有一列表alist, 请写出两种去除alist中重复元素的方法, 其中：\n",
    "\n",
    "– 要求保持原有列表中元素的排列顺序。\n",
    "– 无需考虑原有列表中元素的排列顺序。"
   ]
  },
  {
   "cell_type": "code",
   "execution_count": null,
   "metadata": {},
   "outputs": [],
   "source": [
    "# 保存顺序\n",
    "for item in alist:\n",
    "    if item not in new_list:\n",
    "        new_list.append(item)\n",
    "        \n",
    "# 不保持顺序\n",
    "list(set(alist))"
   ]
  },
  {
   "attachments": {},
   "cell_type": "markdown",
   "metadata": {},
   "source": [
    "68. 那些情况下, y != x - (x-y)会成立?"
   ]
  },
  {
   "attachments": {},
   "cell_type": "markdown",
   "metadata": {},
   "source": [
    "两个非空元素不同的集合"
   ]
  },
  {
   "attachments": {},
   "cell_type": "markdown",
   "metadata": {},
   "source": [
    "69. 用Python实现99乘法表(用两种不同的方法实现)"
   ]
  },
  {
   "cell_type": "code",
   "execution_count": 6,
   "metadata": {},
   "outputs": [],
   "source": [
    "# for 循环\n",
    "# while  循环"
   ]
  },
  {
   "attachments": {},
   "cell_type": "markdown",
   "metadata": {},
   "source": [
    "70. 获取list中的元素个数,和向末尾追加元素所用的方法分别是什么？\n",
    "\n",
    "答：获取个数  len()  count\n",
    "\n",
    "末尾追加  append() insert(-1,'内容)\n",
    "\n",
    "\n",
    "71. 判断 dict 中有没有某个 key 用的方法是什么？"
   ]
  },
  {
   "cell_type": "code",
   "execution_count": null,
   "metadata": {},
   "outputs": [],
   "source": [
    "# k in dic  "
   ]
  },
  {
   "attachments": {},
   "cell_type": "markdown",
   "metadata": {},
   "source": [
    "72. 填空"
   ]
  },
  {
   "cell_type": "code",
   "execution_count": null,
   "metadata": {},
   "outputs": [],
   "source": []
  },
  {
   "attachments": {},
   "cell_type": "markdown",
   "metadata": {},
   "source": [
    "81. python里如何实现tuple和list的转化\n",
    "\n",
    "tuple() list()  内置函数\n",
    "\n",
    "\n",
    "82. type(1+2L*3.14)的结果是\n",
    "A.  int\n",
    "B.  long\n",
    "C.  float (Target)\n",
    "D. str"
   ]
  },
  {
   "attachments": {},
   "cell_type": "markdown",
   "metadata": {},
   "source": [
    "83. 若k为整型, 下列while循环执行的次数为"
   ]
  },
  {
   "cell_type": "code",
   "execution_count": 8,
   "metadata": {},
   "outputs": [
    {
     "name": "stdout",
     "output_type": "stream",
     "text": [
      "1000\n",
      "500.0\n",
      "250.0\n",
      "125.0\n",
      "62.5\n",
      "31.25\n",
      "15.625\n",
      "7.8125\n",
      "3.90625\n",
      "1.953125\n"
     ]
    }
   ],
   "source": [
    "k = 1000\n",
    "while k > 1:\n",
    "    print(k)\n",
    "    k = k / 2"
   ]
  },
  {
   "attachments": {},
   "cell_type": "markdown",
   "metadata": {},
   "source": [
    "84. 以下何者是不合法的布尔表达式\n",
    "\n",
    "A.  x in range(6)\n",
    "B.  3 = a (target)\n",
    "C.  e>5 and 4==f\n",
    "D.  (x-6)>5\n",
    "\n",
    "85. python不支持的数据类型有\n",
    "A.  char (Target)\n",
    "B.  int\n",
    "C.  float\n",
    "D.  list"
   ]
  },
  {
   "attachments": {},
   "cell_type": "markdown",
   "metadata": {},
   "source": [
    "86. 如何在Python中拷贝一个对象, 并说明他们之间的区别？\n",
    "\n",
    "使用[:]这样就可以进行拷贝一个对象,这个是浅拷贝\n",
    "\n",
    "使用copy模块 copy.copy这是浅拷贝\n",
    "\n",
    "使用copy模块 copy.deepcopy 这是深拷贝\n",
    "\n",
    "浅拷贝就是拷贝对象的一层元素.\n",
    "\n",
    "深拷贝是拷贝对象里的多层元素\n",
    "\n",
    "87. 99(10进制)的八进制表示是什么？ oct(99)"
   ]
  },
  {
   "attachments": {},
   "cell_type": "markdown",
   "metadata": {},
   "source": [
    "88. 下列Python语句正确的是\n",
    "    \n",
    "min = x is x<y=y\n",
    "\n",
    "max = x>y?x:y\n",
    "\n",
    "if(x>y) print x \n",
    "\n",
    "while True:pass （Target）"
   ]
  },
  {
   "attachments": {},
   "cell_type": "markdown",
   "metadata": {},
   "source": [
    "89. list对象 alist = [{'name':'a','age':20},{'name':'b','age':30},{'name':'v','age':25},]按alist中元素的age由大到小排序。"
   ]
  },
  {
   "cell_type": "code",
   "execution_count": 7,
   "metadata": {},
   "outputs": [
    {
     "data": {
      "text/plain": [
       "[{'name': 'a', 'age': 20}, {'name': 'v', 'age': 25}, {'name': 'b', 'age': 30}]"
      ]
     },
     "execution_count": 7,
     "metadata": {},
     "output_type": "execute_result"
    }
   ],
   "source": [
    "alist89 = [{'name':'a','age':20},{'name':'b','age':30},{'name':'v','age':25}]\n",
    "sorted(alist89,key=lambda x: x['age']) # 从大到小 添加一个reverse参数即可"
   ]
  },
  {
   "attachments": {},
   "cell_type": "markdown",
   "metadata": {},
   "source": [
    "90. 关于Python程序的运行性能方面, 有什么手段能提升性能？\n",
    "\n",
    "1、使用多进程，充分利用机器的多核性能\n",
    "\n",
    "2、对于性能影响较大的部分代码，可以使用C或C++编写\n",
    "\n",
    "3、对于IO阻塞造成的性能影响，可以使用IO多路复用来解决\n",
    "\n",
    "4、尽量使用Python的内建函数\n",
    "\n",
    "5、尽量使用"
   ]
  },
  {
   "attachments": {},
   "cell_type": "markdown",
   "metadata": {},
   "source": [
    "91.Python是如何进行内存管理的? Python的程序会内存泄漏吗?说说有没有什么方面阻止或检测内存泄漏\n",
    "答：引用计数\n",
    "Python内部使用引用计数，来保持追踪内存中的对象，Python内部记录了对象有多少个引用，就是引用计数，当对象被创建时就创建了一个引用计数，当对象不再需要的时候，这个对象的引用计数为0时，他被垃圾回收。\n",
    "垃圾回收\n",
    "当内存中有不再使用的部分时，垃圾收集器就会把他们清理掉。他会去检查那些引用计数为0的对象，然后清除其在内存中的空间。当然除了引用计数为0的会被清除，还有一种情况也会被垃圾收集器清掉，当两个对象相互引用时，他们本身其他引用已经为0了。\n",
    "内存池机制\n",
    "Python提供了对内存的垃圾收集机制，但是他将不用的内存放到内存池而不是反回给操作系统。\n",
    "python的程序会内存泄漏吗？\n",
    "会发生内存泄漏，在Python程序里，内存泄漏是由于一个长期持有的对象不断的往一个dict或者list对象里添加新的对象, 而又没有即时释放，就会导致这些对象占用的内存越来越多，从而造成内存泄漏。另外，对象的交叉引用也会造成内存无法释放的问题。\n",
    "说说有没有什么方面阻止或者检测内存泄漏？\n",
    "程序员管理好每个python对象的引用，尽量在不需要使用对象的时候，断开所有引用\n",
    "尽量少通过循环引用组织数据，可以改用weakref做弱引用或者用id之类的句柄访问对象\n",
    "通过gc模块的接口可以检查出每次垃圾回收有哪些对象不能自动处理，再逐个逐个处理\n",
    "\n",
    "92.详细说说tuple,list,dict的用法, 他们的特点\n",
    "答：tuple 是用小括号()组成,没有增删改,是用于存放一些不修改的数据.里边存放的数据安全系数较高,特点是不可变\n",
    "list  使用中括号[]组成,有增删改,是用于存放一些数据,经常修改的数据.特点是可变\n",
    "dict  使用大括号{}组成,有增删改,是用于存放一些键值数据,特点是查找方便.能够准确的查找到\n",
    "93.一个大小为100G的文件etl_log.txt, 要读取文件中的内容, 写出具体过程代码？"
   ]
  },
  {
   "cell_type": "code",
   "execution_count": null,
   "metadata": {},
   "outputs": [],
   "source": [
    "with open('etl_log.txt','r')as log_file:\n",
    "    for content in log_file:\n",
    "        print(content)"
   ]
  },
  {
   "attachments": {},
   "cell_type": "markdown",
   "metadata": {},
   "source": [
    "94. 已知Alist=[1,2,3,1,2,1,3],如何根据Alist得到[1,2,3]\n",
    "\n",
    "答：list(set(Alist))\n",
    "\n",
    "95. 已知stra = 'wqedsfsdrfweedqwedqw'\n",
    "\n",
    "- 如何获取最后两个字符\n",
    "- 如何获取第二个和第三个字符\n",
    "  \n",
    "答：print(s[-2:])\n",
    "\n",
    "print(s[1:3])\n",
    "\n",
    "96. 已知Alist = [\"a\",\"b\",\"'c'],将Alist转化为'a,b,c'的实现过程"
   ]
  },
  {
   "cell_type": "code",
   "execution_count": 3,
   "metadata": {},
   "outputs": [
    {
     "data": {
      "text/plain": [
       "'a,b,c'"
      ]
     },
     "execution_count": 3,
     "metadata": {},
     "output_type": "execute_result"
    }
   ],
   "source": [
    "Alist = [\"a\",\"b\",'c']\n",
    "','.join(Alist)"
   ]
  },
  {
   "attachments": {},
   "cell_type": "markdown",
   "metadata": {},
   "source": [
    "97. 已知ip='192.168.0.100' 代码实现提取各部分并写入列表。"
   ]
  },
  {
   "cell_type": "code",
   "execution_count": 5,
   "metadata": {},
   "outputs": [
    {
     "data": {
      "text/plain": [
       "['192', '168', '0', '100']"
      ]
     },
     "execution_count": 5,
     "metadata": {},
     "output_type": "execute_result"
    }
   ],
   "source": [
    "ip='192.168.0.100'\n",
    "ip_list = ip.split('.')\n",
    "ip_list"
   ]
  },
  {
   "attachments": {},
   "cell_type": "markdown",
   "metadata": {},
   "source": [
    "98.python代码如何获取命令行参数？\n",
    "答：\n",
    "99.写代码\n",
    " \n",
    "写出由tupleA和tupleB得到res的及具体实现过程\n",
    "答：\n",
    "100.选出以下表达式表述正确的选项\n",
    " A.  {1:0,2:0,3:0}\n",
    "B.  {'1':0,'2':0,'3':0}\n",
    "C.  {(1,2):0,(4,3):0}\n",
    "D.  {[1,2]:0,[4,3]:0}\n",
    "E.  {{1,2}:0,{4,3}:0}\n",
    "答：A,B,C\n",
    "101.what gets printde() ?\n",
    " A.  1\n",
    "B.  2\n",
    "C.  6\n",
    "D.  10\n",
    "E.  An execption is thrown\n",
    "答：C\n",
    "102.what gets printde() ?\n",
    " A.  4\n",
    "B.  5\n",
    "C.  8\n",
    "D.  12\n",
    "E.  An exception is thrown\n",
    "答：B\n",
    "103.what getsprintde() ?\n",
    " A.  1\n",
    "B.  2\n",
    "C.  An exception is thrown\n",
    "答：B\n",
    "104.what getsprintde() ? Assuming ptrhon version2.x()\n",
    " A.  int\n",
    "B.  float\n",
    "C.  0\n",
    "D.  1\n",
    "E.  0.5\n",
    "答：\tB\n",
    "105.以下用来管理Python库管理工具的是\n",
    " A.  APT\n",
    "B.  PIP\n",
    "C.  YUM\n",
    "D.  MAVEN\n",
    "答：B\n",
    "106.which numbers are printed ()?\n",
    " A.  2,4,6\n",
    "B.  0,1,2,4,5,6\n",
    "C.  0,1,4,5\n",
    "D.  0,1,4,5,6,7,8,9\n",
    "E.  1,2,4,5,6\n",
    "答：C\n",
    "107.求结果\n",
    " A.  5\n",
    "B.  5.0\n",
    "C.  5.5\n",
    "D.  6\n",
    "E.  6.0\n",
    "答：C\n"
   ]
  },
  {
   "attachments": {},
   "cell_type": "markdown",
   "metadata": {},
   "source": [
    "108. 关于Python的内存管理, 下列说法错误的是\n",
    "\n",
    "A.  变量不必事先声明\n",
    "B.  变量无需先创建和赋值而直接使用（Target）\n",
    "C.  变量无需指定类型\n",
    "D.  可以使用del释放资源\n",
    "\n",
    "109. 下面那个不是Python合法的标识符\n",
    "\n",
    "A.  int32\n",
    "B.  40xl  (Target)\n",
    "C.  self\n",
    "D.  name\n",
    "\n",
    "110. 下列哪种说法是错误的\n",
    "\n",
    "A.  除字典类型外, 所有标准对象均可用于布尔测试(Target)\n",
    "B.  空字符串的布尔值是False\n",
    "C.  空列表对象的布尔值是False\n",
    "D.  值为0的任何数字对象的布尔值是False\n",
    "\n",
    "111. 下列表达是的值为True的是\n",
    "\n",
    "A.  5+4j >2-3j\n",
    "B.  3>2>2\n",
    "C.  (3,2)<(\"a\",\"b\") (Target)\n",
    "D.  \" abc\" > 'xyz'\n",
    "\n",
    "112. 关于Python的复数, 下列说法错误的是\n",
    "\n",
    "A.  表示复数的语法是 real+imagej\n",
    "B.  实部和虚部都是浮点数\n",
    "C.  虚部后缀必须是j, 且必须小写 (Target)\n",
    "D.  方法conjugate返回复数的共轭复数\n",
    "\n",
    "\n",
    "113. 关于字符串下列说法错误的是\n",
    "\n",
    "A.  字符应视为长度为1的字符串\n",
    "B.  字符串以\\0标志字符串的结束(Target)\n",
    "C.  既可以用单引号, 也可以用双引号创建字符串\n",
    "D.  在三引号字符串中可以包含换行回车等特殊字符\n",
    "\n",
    "114. 以下不能创建一个字典的语句是\n",
    "\n",
    "A.  dic1 = {}\n",
    "B.  dic2 = {3:5}\n",
    "C.  dic3 = {[1,2,3]:\"usetc\"} (Tar)\n",
    "D.  dic4 = {(1,2,3):\"usetc\"}\n",
    "\n",
    "\n",
    "115. python里面如何拷贝一个对象?(赋值,浅拷贝,深拷贝的区别)\n",
    "\n",
    "list[:]\n",
    "\n",
    "import copy\n",
    "copy.copy()\n",
    "\n",
    "赋值是两个对象使用的是一个内容\n",
    "\n",
    "浅拷贝是将对象的第一层元素进行复制,开辟一个新的空间存放\n",
    "\n",
    "深拷贝是将对象里多层元素进行复制,开辟一个新的空间存"
   ]
  },
  {
   "attachments": {},
   "cell_type": "markdown",
   "metadata": {},
   "source": [
    "116. 描述在python中的元祖,列表,字典的区别,并且分别写一段定义,添加,删除操作的代码片段。 "
   ]
  },
  {
   "cell_type": "code",
   "execution_count": null,
   "metadata": {},
   "outputs": [],
   "source": [
    "# 元祖 不可变数据  用，隔开\n",
    "# 列表 可变数据  用，隔开\n",
    "# 字典 可变数据 键值对形式\n",
    "\n",
    "# 元祖  无增加 删除方法\n",
    "# 列表 append insert   pop  remove\n",
    "# 字典  "
   ]
  },
  {
   "attachments": {},
   "cell_type": "markdown",
   "metadata": {},
   "source": [
    "117. 看程序得出结果"
   ]
  },
  {
   "cell_type": "code",
   "execution_count": 2,
   "metadata": {},
   "outputs": [
    {
     "name": "stdout",
     "output_type": "stream",
     "text": [
      "12\n"
     ]
    }
   ],
   "source": [
    "names1 = ['Amir','Barry','cauchy','David']\n",
    "names2 = names1 # 指向相同\n",
    "names3 = names1[:] # 重新赋值一份\n",
    "names2[0] = 'Alice'\n",
    "names3[1] = 'Bob'\n",
    "sum = 0\n",
    "for ls in (names1,names2,names3):\n",
    "    if ls[0] == 'Alice':\n",
    "        sum += 1\n",
    "    if ls[1] =='Bob':\n",
    "        sum += 10\n",
    "        \n",
    "    \n",
    "print(sum)"
   ]
  },
  {
   "attachments": {},
   "cell_type": "markdown",
   "metadata": {},
   "source": [
    "118. 看程序得出结果"
   ]
  },
  {
   "cell_type": "code",
   "execution_count": 1,
   "metadata": {},
   "outputs": [
    {
     "name": "stdout",
     "output_type": "stream",
     "text": [
      "yes\n"
     ]
    }
   ],
   "source": [
    "x = True\n",
    "y = False\n",
    "z = False\n",
    "\n",
    "if x or y and z:\n",
    "    print('yes')\n",
    "else:\n",
    "    print()"
   ]
  },
  {
   "attachments": {},
   "cell_type": "markdown",
   "metadata": {},
   "source": [
    "119. 1 or 2 和1 and 2输出分别是什么? 为什么\n",
    "\n",
    "答：\n",
    "1 or 2 输出 1\n",
    "\n",
    "1 and 2 输出 2 \n",
    "\n",
    "or 运算都为真的取or前面的\n",
    "\n",
    "and 运算都为真的取and后面的\n",
    "\n",
    "120. 1 <(2==2)和1 <2==2的结果分别是什么, 为什么？\n",
    "\n",
    "答：1<(2==2)这样的结果是False 是因为先算的括号里的内容\n",
    "\n",
    "1<2==2 这样的结果是True 是因为这是一个简写 拆开来看是 1<2 and 2==2 所以结果是True\n"
   ]
  },
  {
   "attachments": {},
   "cell_type": "markdown",
   "metadata": {},
   "source": [
    "121. 如何打乱一个排好序的list对象alist？"
   ]
  },
  {
   "cell_type": "code",
   "execution_count": 45,
   "metadata": {},
   "outputs": [
    {
     "name": "stdout",
     "output_type": "stream",
     "text": [
      "[26.1, 98.106, 2, 4, 10]\n"
     ]
    }
   ],
   "source": [
    "my_list = [10,26.1,2,4,98.106]\n",
    "import random\n",
    "random.shuffle(my_list)\n",
    "print(my_list)"
   ]
  },
  {
   "attachments": {},
   "cell_type": "markdown",
   "metadata": {},
   "source": [
    "122. 如何查找一个字符串中特定的字符?find和index的差异？"
   ]
  },
  {
   "cell_type": "code",
   "execution_count": null,
   "metadata": {},
   "outputs": [],
   "source": [
    "s = 'vcdjhcvbh'\n",
    "print(s.find('e'))\n",
    "print(s.index('e'))\n",
    "# find  未找到 --> -1   index  未找到 -->  error(ValueError: substring not found)"
   ]
  },
  {
   "attachments": {},
   "cell_type": "markdown",
   "metadata": {},
   "source": [
    "123. 把aaabbcccd这种形式的字符串压缩成a3b2c3d1这种形式。"
   ]
  },
  {
   "cell_type": "code",
   "execution_count": 47,
   "metadata": {},
   "outputs": [],
   "source": [
    "def zipStr(str):\n",
    "    # 转化成字典\n",
    "    # 键值对拼接即可\n",
    "    pass"
   ]
  },
  {
   "attachments": {},
   "cell_type": "markdown",
   "metadata": {},
   "source": [
    "124. Python 一个数如果恰好等于它的因子之和，这个数就称为\"完数\"。例如6=1＋2＋3.编程找出1000以内的所有完数。 "
   ]
  },
  {
   "attachments": {},
   "cell_type": "markdown",
   "metadata": {},
   "source": [
    "125. 输入一个字符串, 输出该字符串中字符的所有组合. \n",
    "    \n",
    "例如: 输入字符串\"1,2,3\", 则输出为1,2,3,12,13,23,123(组合数, 不考虑顺序, 所以12和21是等价的)"
   ]
  },
  {
   "attachments": {},
   "cell_type": "markdown",
   "metadata": {},
   "source": [
    "126. 对于一个非空字符串,判断其是否可以有一个子字符串重复多次组成,字符串只包含小写字母且长度不超过10000\n",
    "\n",
    "示例1:\n",
    "\n",
    "1.  输入\"abab\"\n",
    "2.  输出True\n",
    "3.  样例解释: 输入可由\"ab\"重复两次组成\n",
    "\n",
    "示例2:\n",
    "\n",
    "1.  输入\"abcabcabc\"\n",
    "2.  输出True\n",
    "3.  样例解释: 输入可由\"abc\"重复三次组成\n",
    "\n",
    "示例3:\n",
    "\n",
    "1.  输入\"aba\"\n",
    "2.  输出False"
   ]
  }
 ],
 "metadata": {
  "kernelspec": {
   "display_name": "Python 3",
   "language": "python",
   "name": "python3"
  },
  "language_info": {
   "codemirror_mode": {
    "name": "ipython",
    "version": 3
   },
   "file_extension": ".py",
   "mimetype": "text/x-python",
   "name": "python",
   "nbconvert_exporter": "python",
   "pygments_lexer": "ipython3",
   "version": "3.9.8"
  },
  "orig_nbformat": 4
 },
 "nbformat": 4,
 "nbformat_minor": 2
}
